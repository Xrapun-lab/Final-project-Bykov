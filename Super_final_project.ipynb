{
  "nbformat": 4,
  "nbformat_minor": 0,
  "metadata": {
    "colab": {
      "provenance": [],
      "gpuType": "T4"
    },
    "kernelspec": {
      "name": "python3",
      "display_name": "Python 3"
    },
    "language_info": {
      "name": "python"
    },
    "accelerator": "GPU"
  },
  "cells": [
    {
      "cell_type": "markdown",
      "source": [
        "В данном проекте я делаю нейронную сеть LSTM для предсказания цены закрытия акции Амазона на следующий день, используя данные о минимальной, максимальной ценах, ценах закрытия и открытия. Изначально я хотел использовать еще новости, для улучшения точности прогноза, например используя трансформер(чтобы получить вектор новости), но злые капиталисты помешали мне, так как API, которые дают информацию о новостях стоят денег, поэтому я отложил использование новостей на будущее улучшение проекта. LSTM проходит по 7 последним дня и должна предсказывать завтрашнюю цену. Данные по акциям для обучения я взял с сайта Yahoo finance, а для предсказания я беру данные из их неофициального API. \n",
        "\n",
        "yfinance is not affiliated, endorsed, or vetted by Yahoo, Inc. It's an open-source tool that uses Yahoo's publicly available APIs, and is intended for research and educational purposes."
      ],
      "metadata": {
        "id": "JVvLkyukVjjA"
      }
    },
    {
      "cell_type": "code",
      "execution_count": 67,
      "metadata": {
        "id": "JlVaYH7Nsg78"
      },
      "outputs": [],
      "source": [
        "import pandas as pd\n",
        "from sklearn.preprocessing import MinMaxScaler\n",
        "\n",
        "# Загрузка данных\n",
        "data = pd.read_csv('AMZN.csv')\n"
      ]
    },
    {
      "cell_type": "code",
      "source": [
        "import numpy as np"
      ],
      "metadata": {
        "id": "-V7tkhRjw7S1"
      },
      "execution_count": 55,
      "outputs": []
    },
    {
      "cell_type": "markdown",
      "source": [
        "Подготовка данных"
      ],
      "metadata": {
        "id": "9zXEaFMaXw3h"
      }
    },
    {
      "cell_type": "code",
      "source": [
        "del data['Volume']"
      ],
      "metadata": {
        "id": "TYS03BxRB4rS"
      },
      "execution_count": 68,
      "outputs": []
    },
    {
      "cell_type": "code",
      "source": [
        "del data['Date']"
      ],
      "metadata": {
        "id": "Wsccovsvs87N"
      },
      "execution_count": 69,
      "outputs": []
    },
    {
      "cell_type": "code",
      "source": [
        "del data['Adj Close']"
      ],
      "metadata": {
        "id": "CmqRzCTbtCZ4"
      },
      "execution_count": 70,
      "outputs": []
    },
    {
      "cell_type": "code",
      "source": [
        "data"
      ],
      "metadata": {
        "colab": {
          "base_uri": "https://localhost:8080/",
          "height": 423
        },
        "id": "4Nkpn1xfOXxf",
        "outputId": "3b9bd837-1d7f-4435-d2dc-c6539d2c7e9e"
      },
      "execution_count": 71,
      "outputs": [
        {
          "output_type": "execute_result",
          "data": {
            "text/plain": [
              "            Open        High         Low       Close\n",
              "0      58.599998   59.500000   58.525501   59.450500\n",
              "1      59.415001   60.274502   59.415001   60.209999\n",
              "2      60.250000   60.793499   60.233002   60.479500\n",
              "3      60.875500   61.457001   60.500000   61.457001\n",
              "4      61.799999   62.653999   61.601501   62.343498\n",
              "...          ...         ...         ...         ...\n",
              "1364  123.360001  125.800003  123.029999  125.300003\n",
              "1365  125.070000  127.400002  125.000000  126.610001\n",
              "1366  127.010002  127.370003  120.629997  121.230003\n",
              "1367  123.010002  125.629997  122.260002  124.250000\n",
              "1368  124.080002  125.800003  123.190002  123.430000\n",
              "\n",
              "[1369 rows x 4 columns]"
            ],
            "text/html": [
              "\n",
              "  <div id=\"df-e39adc43-66ac-4f31-a271-0fbd9d5ab06e\">\n",
              "    <div class=\"colab-df-container\">\n",
              "      <div>\n",
              "<style scoped>\n",
              "    .dataframe tbody tr th:only-of-type {\n",
              "        vertical-align: middle;\n",
              "    }\n",
              "\n",
              "    .dataframe tbody tr th {\n",
              "        vertical-align: top;\n",
              "    }\n",
              "\n",
              "    .dataframe thead th {\n",
              "        text-align: right;\n",
              "    }\n",
              "</style>\n",
              "<table border=\"1\" class=\"dataframe\">\n",
              "  <thead>\n",
              "    <tr style=\"text-align: right;\">\n",
              "      <th></th>\n",
              "      <th>Open</th>\n",
              "      <th>High</th>\n",
              "      <th>Low</th>\n",
              "      <th>Close</th>\n",
              "    </tr>\n",
              "  </thead>\n",
              "  <tbody>\n",
              "    <tr>\n",
              "      <th>0</th>\n",
              "      <td>58.599998</td>\n",
              "      <td>59.500000</td>\n",
              "      <td>58.525501</td>\n",
              "      <td>59.450500</td>\n",
              "    </tr>\n",
              "    <tr>\n",
              "      <th>1</th>\n",
              "      <td>59.415001</td>\n",
              "      <td>60.274502</td>\n",
              "      <td>59.415001</td>\n",
              "      <td>60.209999</td>\n",
              "    </tr>\n",
              "    <tr>\n",
              "      <th>2</th>\n",
              "      <td>60.250000</td>\n",
              "      <td>60.793499</td>\n",
              "      <td>60.233002</td>\n",
              "      <td>60.479500</td>\n",
              "    </tr>\n",
              "    <tr>\n",
              "      <th>3</th>\n",
              "      <td>60.875500</td>\n",
              "      <td>61.457001</td>\n",
              "      <td>60.500000</td>\n",
              "      <td>61.457001</td>\n",
              "    </tr>\n",
              "    <tr>\n",
              "      <th>4</th>\n",
              "      <td>61.799999</td>\n",
              "      <td>62.653999</td>\n",
              "      <td>61.601501</td>\n",
              "      <td>62.343498</td>\n",
              "    </tr>\n",
              "    <tr>\n",
              "      <th>...</th>\n",
              "      <td>...</td>\n",
              "      <td>...</td>\n",
              "      <td>...</td>\n",
              "      <td>...</td>\n",
              "    </tr>\n",
              "    <tr>\n",
              "      <th>1364</th>\n",
              "      <td>123.360001</td>\n",
              "      <td>125.800003</td>\n",
              "      <td>123.029999</td>\n",
              "      <td>125.300003</td>\n",
              "    </tr>\n",
              "    <tr>\n",
              "      <th>1365</th>\n",
              "      <td>125.070000</td>\n",
              "      <td>127.400002</td>\n",
              "      <td>125.000000</td>\n",
              "      <td>126.610001</td>\n",
              "    </tr>\n",
              "    <tr>\n",
              "      <th>1366</th>\n",
              "      <td>127.010002</td>\n",
              "      <td>127.370003</td>\n",
              "      <td>120.629997</td>\n",
              "      <td>121.230003</td>\n",
              "    </tr>\n",
              "    <tr>\n",
              "      <th>1367</th>\n",
              "      <td>123.010002</td>\n",
              "      <td>125.629997</td>\n",
              "      <td>122.260002</td>\n",
              "      <td>124.250000</td>\n",
              "    </tr>\n",
              "    <tr>\n",
              "      <th>1368</th>\n",
              "      <td>124.080002</td>\n",
              "      <td>125.800003</td>\n",
              "      <td>123.190002</td>\n",
              "      <td>123.430000</td>\n",
              "    </tr>\n",
              "  </tbody>\n",
              "</table>\n",
              "<p>1369 rows × 4 columns</p>\n",
              "</div>\n",
              "      <button class=\"colab-df-convert\" onclick=\"convertToInteractive('df-e39adc43-66ac-4f31-a271-0fbd9d5ab06e')\"\n",
              "              title=\"Convert this dataframe to an interactive table.\"\n",
              "              style=\"display:none;\">\n",
              "        \n",
              "  <svg xmlns=\"http://www.w3.org/2000/svg\" height=\"24px\"viewBox=\"0 0 24 24\"\n",
              "       width=\"24px\">\n",
              "    <path d=\"M0 0h24v24H0V0z\" fill=\"none\"/>\n",
              "    <path d=\"M18.56 5.44l.94 2.06.94-2.06 2.06-.94-2.06-.94-.94-2.06-.94 2.06-2.06.94zm-11 1L8.5 8.5l.94-2.06 2.06-.94-2.06-.94L8.5 2.5l-.94 2.06-2.06.94zm10 10l.94 2.06.94-2.06 2.06-.94-2.06-.94-.94-2.06-.94 2.06-2.06.94z\"/><path d=\"M17.41 7.96l-1.37-1.37c-.4-.4-.92-.59-1.43-.59-.52 0-1.04.2-1.43.59L10.3 9.45l-7.72 7.72c-.78.78-.78 2.05 0 2.83L4 21.41c.39.39.9.59 1.41.59.51 0 1.02-.2 1.41-.59l7.78-7.78 2.81-2.81c.8-.78.8-2.07 0-2.86zM5.41 20L4 18.59l7.72-7.72 1.47 1.35L5.41 20z\"/>\n",
              "  </svg>\n",
              "      </button>\n",
              "      \n",
              "  <style>\n",
              "    .colab-df-container {\n",
              "      display:flex;\n",
              "      flex-wrap:wrap;\n",
              "      gap: 12px;\n",
              "    }\n",
              "\n",
              "    .colab-df-convert {\n",
              "      background-color: #E8F0FE;\n",
              "      border: none;\n",
              "      border-radius: 50%;\n",
              "      cursor: pointer;\n",
              "      display: none;\n",
              "      fill: #1967D2;\n",
              "      height: 32px;\n",
              "      padding: 0 0 0 0;\n",
              "      width: 32px;\n",
              "    }\n",
              "\n",
              "    .colab-df-convert:hover {\n",
              "      background-color: #E2EBFA;\n",
              "      box-shadow: 0px 1px 2px rgba(60, 64, 67, 0.3), 0px 1px 3px 1px rgba(60, 64, 67, 0.15);\n",
              "      fill: #174EA6;\n",
              "    }\n",
              "\n",
              "    [theme=dark] .colab-df-convert {\n",
              "      background-color: #3B4455;\n",
              "      fill: #D2E3FC;\n",
              "    }\n",
              "\n",
              "    [theme=dark] .colab-df-convert:hover {\n",
              "      background-color: #434B5C;\n",
              "      box-shadow: 0px 1px 3px 1px rgba(0, 0, 0, 0.15);\n",
              "      filter: drop-shadow(0px 1px 2px rgba(0, 0, 0, 0.3));\n",
              "      fill: #FFFFFF;\n",
              "    }\n",
              "  </style>\n",
              "\n",
              "      <script>\n",
              "        const buttonEl =\n",
              "          document.querySelector('#df-e39adc43-66ac-4f31-a271-0fbd9d5ab06e button.colab-df-convert');\n",
              "        buttonEl.style.display =\n",
              "          google.colab.kernel.accessAllowed ? 'block' : 'none';\n",
              "\n",
              "        async function convertToInteractive(key) {\n",
              "          const element = document.querySelector('#df-e39adc43-66ac-4f31-a271-0fbd9d5ab06e');\n",
              "          const dataTable =\n",
              "            await google.colab.kernel.invokeFunction('convertToInteractive',\n",
              "                                                     [key], {});\n",
              "          if (!dataTable) return;\n",
              "\n",
              "          const docLinkHtml = 'Like what you see? Visit the ' +\n",
              "            '<a target=\"_blank\" href=https://colab.research.google.com/notebooks/data_table.ipynb>data table notebook</a>'\n",
              "            + ' to learn more about interactive tables.';\n",
              "          element.innerHTML = '';\n",
              "          dataTable['output_type'] = 'display_data';\n",
              "          await google.colab.output.renderOutput(dataTable, element);\n",
              "          const docLink = document.createElement('div');\n",
              "          docLink.innerHTML = docLinkHtml;\n",
              "          element.appendChild(docLink);\n",
              "        }\n",
              "      </script>\n",
              "    </div>\n",
              "  </div>\n",
              "  "
            ]
          },
          "metadata": {},
          "execution_count": 71
        }
      ]
    },
    {
      "cell_type": "markdown",
      "source": [
        "Тестовую выборку делаем равной 10%. Ни в коем случае не перемешиваем, так как иначе данные из будущего теста могут попасть в трейн, а так же соседние дни связаны, и лстм бежит по рядом стоящим дням."
      ],
      "metadata": {
        "id": "xlvsHiRBX9aO"
      }
    },
    {
      "cell_type": "code",
      "source": [
        "train_data = data[:int(len(data)*0.9)]\n",
        "test_data = data[int(len(data)*0.9):]"
      ],
      "metadata": {
        "id": "uz1Z7qfFtHI8"
      },
      "execution_count": 59,
      "outputs": []
    },
    {
      "cell_type": "markdown",
      "source": [
        "Нормализуем данные для стабильного обучения с помощью MinMaxScaler. Не забываем, что обучать надо только на трейне"
      ],
      "metadata": {
        "id": "Q0VQgJccYYik"
      }
    },
    {
      "cell_type": "code",
      "source": [
        "scaler = MinMaxScaler()\n",
        "scaler.fit(train_data)\n",
        "train_data = scaler.transform(train_data)\n",
        "test_data = scaler.transform(test_data)"
      ],
      "metadata": {
        "id": "8tkeaeyTtPT6"
      },
      "execution_count": 60,
      "outputs": []
    },
    {
      "cell_type": "markdown",
      "source": [
        "Вот сама LSTM, так же используем линейной слой, чтобы трансформировать скрытый слой в предсказание. Обучение проходит на видеокарте"
      ],
      "metadata": {
        "id": "r11NmRAZY8QR"
      }
    },
    {
      "cell_type": "code",
      "source": [
        "import torch\n",
        "import torch.nn as nn\n",
        "\n",
        "# Определение модели\n",
        "class LSTM(nn.Module):\n",
        "    def __init__(self, input_size, hidden_layer_size, output_size, num_layers):\n",
        "        super().__init__()\n",
        "        self.hidden_layer_size = hidden_layer_size\n",
        "        self.lstm = nn.LSTM(input_size, hidden_layer_size, num_layers)\n",
        "        self.linear = nn.Linear(hidden_layer_size, output_size)\n",
        "        self.hidden_cell = (torch.zeros(num_layers,1,self.hidden_layer_size),\n",
        "                            torch.zeros(num_layers,1,self.hidden_layer_size))\n",
        "\n",
        "    def forward(self, input_seq):\n",
        "        lstm_out, self.hidden_cell = self.lstm(input_seq.view(len(input_seq) ,1, -1), self.hidden_cell)\n",
        "        predictions = self.linear(lstm_out.view(len(input_seq), -1))\n",
        "        return predictions[-1]\n",
        "\n",
        "\n",
        "# Перенос модели на GPU, если доступна\n",
        "device = torch.device(\"cuda\" if torch.cuda.is_available() else \"cpu\")\n",
        "\n"
      ],
      "metadata": {
        "id": "lddEVaz2wrgS"
      },
      "execution_count": 61,
      "outputs": []
    },
    {
      "cell_type": "markdown",
      "source": [
        "Функция которая трансформирует данные в последовательности фиксированной длин seq_length, таргетом является closed price в следующем периоде"
      ],
      "metadata": {
        "id": "nYDgDj8sZkKu"
      }
    },
    {
      "cell_type": "code",
      "source": [
        "def create_sequences(data, seq_length):\n",
        "    xs = []\n",
        "    ys = []\n",
        "    for i in range(seq_length, len(data)-1):\n",
        "        x = data[i-seq_length:i]\n",
        "        y = data[i+1, 3]\n",
        "        xs.append(x)\n",
        "        ys.append(y)\n",
        "\n",
        "    return np.array(xs), np.array(ys)\n",
        "\n"
      ],
      "metadata": {
        "id": "kMIM1c8Gw26w"
      },
      "execution_count": 62,
      "outputs": []
    },
    {
      "cell_type": "markdown",
      "source": [
        "Теперь трансформация самих данных, используем последовательности длины 7, то есть неделя"
      ],
      "metadata": {
        "id": "csXqXTcDZ48l"
      }
    },
    {
      "cell_type": "code",
      "source": [
        "seq_length = 7\n",
        "X_train, y_train = create_sequences(train_data, seq_length)\n",
        "X_test, y_test = create_sequences(test_data, seq_length)\n",
        "\n",
        "X_train = torch.from_numpy(X_train).float()\n",
        "y_train = torch.from_numpy(y_train).float()\n",
        "\n",
        "X_test = torch.from_numpy(X_test).float()\n",
        "y_test = torch.from_numpy(y_test).float()\n"
      ],
      "metadata": {
        "id": "jdbQhH3pxAn5"
      },
      "execution_count": 118,
      "outputs": []
    },
    {
      "cell_type": "markdown",
      "source": [
        "Сам процесс обучения, оптимайзер используем Adam, так как это классика. Эпох будет 20. Так же рисуем график обновляющийся в реальном времени, показывающий текущий лосс в эпохе. "
      ],
      "metadata": {
        "id": "08yzFZUWbMWo"
      }
    },
    {
      "cell_type": "code",
      "source": [
        "import matplotlib.pyplot as plt\n",
        "from IPython.display import clear_output\n",
        "\n",
        "model = LSTM(input_size=4, hidden_layer_size=100, output_size=1, num_layers=2)\n",
        "model = model.to(device)\n",
        "\n",
        "loss_function = nn.MSELoss()\n",
        "optimizer = torch.optim.Adam(model.parameters(), lr=0.001)\n",
        "\n",
        "epochs = 20\n",
        "\n",
        "# Создание списка для сохранения потерь\n",
        "losses = []\n",
        "\n",
        "for i in range(epochs):\n",
        "    for seq, labels in zip(X_train, y_train):\n",
        "        optimizer.zero_grad()\n",
        "        model.hidden_cell = (torch.zeros(2, 1, model.hidden_layer_size).to(device),\n",
        "                        torch.zeros(2, 1, model.hidden_layer_size).to(device))\n",
        "\n",
        "        seq = seq.to(device)\n",
        "        labels = torch.Tensor(np.array([labels])).to(device)\n",
        "        \n",
        "        y_pred = model(seq)\n",
        "\n",
        "        single_loss = loss_function(y_pred, labels)\n",
        "        single_loss.backward()\n",
        "        optimizer.step()\n",
        "\n",
        "    # Сохранение потерь\n",
        "    losses.append(single_loss.item())\n",
        "    \n",
        "    # Очистка текущего вывода и отображение графика\n",
        "    clear_output(wait=True)\n",
        "    plt.plot(losses)\n",
        "    plt.xlabel('Epoch')\n",
        "    plt.ylabel('Loss')\n",
        "    plt.show()\n",
        "\n",
        "    if i%10 == 1:\n",
        "        print(f'epoch: {i:3} loss: {single_loss.item():10.8f}')\n",
        "\n",
        "print(f'epoch: {i:3} loss: {single_loss.item():10.10f}')\n"
      ],
      "metadata": {
        "colab": {
          "base_uri": "https://localhost:8080/",
          "height": 472
        },
        "id": "Jx1P-TTKag_Q",
        "outputId": "5caeaea3-03fe-46ff-cd0a-53e07a097048"
      },
      "execution_count": 114,
      "outputs": [
        {
          "output_type": "display_data",
          "data": {
            "text/plain": [
              "<Figure size 640x480 with 1 Axes>"
            ],
            "image/png": "[encoded data removed]"
          },
          "metadata": {}
        },
        {
          "output_type": "stream",
          "name": "stdout",
          "text": [
            "epoch:  19 loss: 0.0006390241\n"
          ]
        }
      ]
    },
    {
      "cell_type": "markdown",
      "source": [
        "Здесь мы делаем предсказания на тесте и рисуем график для сравнения с реальными ценами, так же не забываем сделать inverse_transorm так как модель работала с нормированными данным и предсказния следовательно делала тоже нормированные.Так же обучаем новый scaler, так как старый нормирует данные с 4 фичами, а нам нужно отдельно инверсить только одну фичу"
      ],
      "metadata": {
        "id": "Nc_WpzzYbttI"
      }
    },
    {
      "cell_type": "code",
      "source": [
        "model.eval()\n",
        "\n",
        "test_predictions = []\n",
        "with torch.no_grad():\n",
        "    for seq in X_test:\n",
        "        seq = seq.to(device)\n",
        "        test_predictions.append(model(seq).item())\n",
        "\n",
        "# Обучение нового scaler только на тренировочных 'close' данных\n",
        "scaler_close = MinMaxScaler()\n",
        "scaler_close.fit(data.iloc[:len(X_train)][['Close']])\n",
        "\n",
        "# Используем новый scaler для денормализации\n",
        "test_predictions = scaler_close.inverse_transform(np.array(test_predictions).reshape(-1, 1))\n",
        "\n",
        "# Денормализация истинных значений\n",
        "y_test = scaler_close.inverse_transform(y_test.reshape(-1, 1))\n",
        "\n",
        "\n",
        "# Создание DataFrame для удобства\n",
        "df = pd.DataFrame({\n",
        "    \"Real\": y_test.flatten(),\n",
        "    \"Predicted\": np.array(test_predictions).flatten(),\n",
        "})\n",
        "df['Error'] = df['Real'] - df['Predicted'] #в дальнейшем нам понадобится, чтобы добавить возможность наведения на график"
      ],
      "metadata": {
        "id": "JHmRbSlxxT4C"
      },
      "execution_count": 119,
      "outputs": []
    },
    {
      "cell_type": "markdown",
      "source": [
        "Сам график, используем plotly.graph_objects, чтобы график был интерактивным и при наведенеии на него показывалось, на сколько ошиблась модель вверх или вниз"
      ],
      "metadata": {
        "id": "QFQmD8CYcG7r"
      }
    },
    {
      "cell_type": "code",
      "source": [
        "import plotly.graph_objects as go\n",
        "\n",
        "days = 100  # Тут можем задать сколько дней мы хотим видеть на графике\n",
        "\n",
        "fig = go.Figure()\n",
        "\n",
        "fig.add_trace(go.Scatter(x=np.arange(days), y=df['Real'][:days],\n",
        "                mode='lines',\n",
        "                name='Real'))\n",
        "\n",
        "fig.add_trace(go.Scatter(x=np.arange(days), y=df['Predicted'][:days],\n",
        "                mode='lines',\n",
        "                name='Predicted',\n",
        "                text=['Error: {}'.format(i) for i in df['Error'][:days]],\n",
        "                hoverinfo='text+y'))\n",
        "\n",
        "fig.update_traces(textposition='top center')\n",
        "\n",
        "fig.update_layout(\n",
        "    title=\"Comparison of Real and Predicted in Amazon Stock Price\",\n",
        "    xaxis_title=\"Days\",\n",
        "    yaxis_title=\"Price\",\n",
        "    legend_title=\"Legend\",\n",
        "    font=dict(\n",
        "        family=\"Courier New, monospace\",\n",
        "        size=18,\n",
        "        color=\"Black\"\n",
        "    )\n",
        ")\n",
        "\n",
        "fig.show()\n"
      ],
      "metadata": {
        "colab": {
          "base_uri": "https://localhost:8080/",
          "height": 542
        },
        "id": "5hEdEimuKfND",
        "outputId": "5774ea16-4011-4494-ed60-d680ddc60f47"
      },
      "execution_count": 120,
      "outputs": [
        {
          "output_type": "display_data",
          "data": {
            "text/html": [
              "<html>\n",
              "<head><meta charset=\"utf-8\" /></head>\n",
              "<body>\n",
              "    <div>            <script src=\"https://cdnjs.cloudflare.com/ajax/libs/mathjax/2.7.5/MathJax.js?config=TeX-AMS-MML_SVG\"></script><script type=\"text/javascript\">if (window.MathJax && window.MathJax.Hub && window.MathJax.Hub.Config) {window.MathJax.Hub.Config({SVG: {font: \"STIX-Web\"}});}</script>                <script type=\"text/javascript\">window.PlotlyConfig = {MathJaxConfig: 'local'};</script>\n",
              "        <script src=\"https://cdn.plot.ly/plotly-2.18.2.min.js\"></script>                <div id=\"4332ffb0-b438-4ae9-8530-096be50ee9c3\" class=\"plotly-graph-div\" style=\"height:525px; width:100%;\"></div>            <script type=\"text/javascript\">                                    window.PLOTLYENV=window.PLOTLYENV || {};                                    if (document.getElementById(\"4332ffb0-b438-4ae9-8530-096be50ee9c3\")) {                    Plotly.newPlot(                        \"4332ffb0-b438-4ae9-8530-096be50ee9c3\",                        [{\"mode\":\"lines\",\"name\":\"Real\",\"x\":[0,1,2,3,4,5,6,7,8,9,10,11,12,13,14,15,16,17,18,19,20,21,22,23,24,25,26,27,28,29,30,31,32,33,34,35,36,37,38,39,40,41,42,43,44,45,46,47,48,49,50,51,52,53,54,55,56,57,58,59,60,61,62,63,64,65,66,67,68,69,70,71,72,73,74,75,76,77,78,79,80,81,82,83,84,85,86,87,88,89,90,91,92,93,94,95,96,97,98,99],\"y\":[114.26652059753451,113.91001318307349,113.93713856902855,114.18126826600928,114.01851472689373,114.20710273590385,114.45769068334266,114.34014685484999,113.93584642958285,113.85963711676118,113.4798790219429,113.51475528715582,113.71884211855718,113.33391815740356,113.52250518770552,113.23704121973083,113.07945452565878,113.38429422371587,113.36104354335862,113.59613168969804,113.50829654734366,113.24737515449488,113.6297160601423,113.79505265476405,114.11926759354947,114.79353047295263,114.81678115330988,115.1849143973036,114.91753377528858,114.8413232390817,114.61140218246283,115.07253667982332,115.10741196632807,114.95240906179333,115.06349488450496,115.3270003115681,115.71709087308818,115.49879540132497,115.83205140139762,116.0929740176316,117.09532776480319,115.86563577184188,115.70934097253848,115.70029917722013,115.43421093932784,115.20041370904892,115.11903755118374,115.36833458256206,115.38900098402792,115.577588748361,115.18878910290141,115.06607769533412,114.727655094895,114.88394940484432,114.8878245997962,114.58815199145965,114.62173587254983,114.68244562894915,114.4163564123487,114.41118932262816,114.76898887653488,114.62044397778118,114.59461048659477,114.64240276336977,114.42669010243571,114.23035317158406,114.44994078279296,114.76640508699757,114.93690828198578,115.43291904455918,115.29212404635518,115.13195454145398,115.50654530187467,115.25983157067958,115.26112346544824,115.1862053133641,115.17458021786251,115.07124478505466,115.46004443051424,115.68609078153531,115.85271927092572,115.73905063738493,115.9379701343887,115.56983786910314,115.69384068208501,115.70804907776983,115.41741826475163,115.14745483190745,115.73775874261628,115.7519671383011,115.78167582443939,115.72484175234604,115.98318057904271,115.91988703310608,116.32677026920237,116.22989333152964,115.7597170388508,116.07101572139709,116.6961944292566,116.13172449908825],\"type\":\"scatter\",\"textposition\":\"top center\"},{\"hoverinfo\":\"text+y\",\"mode\":\"lines\",\"name\":\"Predicted\",\"text\":[\"Error: -0.7727311965409172\",\"Error: -0.9641540337308925\",\"Error: -0.7237050134556284\",\"Error: -0.31015946625029756\",\"Error: -0.4593676844581296\",\"Error: -0.3820480272311215\",\"Error: -0.11801556582486228\",\"Error: -0.24160781073442195\",\"Error: -0.9425184665115012\",\"Error: -0.8821921190331068\",\"Error: -1.0019652000328279\",\"Error: -0.9266898194709938\",\"Error: -0.6418698414643131\",\"Error: -0.9991516587554088\",\"Error: -0.8901800903422554\",\"Error: -1.057054480157376\",\"Error: -1.2103262946375253\",\"Error: -0.904872212534201\",\"Error: -0.8440589577471656\",\"Error: -0.6710852586909368\",\"Error: -0.7662281701846041\",\"Error: -1.1441626870273467\",\"Error: -0.7508294207025301\",\"Error: -0.49237192564169163\",\"Error: -0.17221862571227575\",\"Error: 0.2657858170714462\",\"Error: 0.221899564555315\",\"Error: 0.30656173506122286\",\"Error: -0.14825617984706696\",\"Error: -0.2047344915249596\",\"Error: -0.46270581330827554\",\"Error: 0.04988377610879979\",\"Error: 0.3140664692173232\",\"Error: 0.039464938412038464\",\"Error: -0.054465598350816435\",\"Error: 0.26895781021175935\",\"Error: 0.8807130463292197\",\"Error: 0.31923306958378816\",\"Error: 0.32516306231354974\",\"Error: 0.755246085942872\",\"Error: 1.6666220588645047\",\"Error: 0.2508707940964996\",\"Error: -0.8337937772312216\",\"Error: 0.0927502147242194\",\"Error: 0.2635582773036731\",\"Error: 0.0012390445281198481\",\"Error: -0.16840337663506943\",\"Error: 0.17214008438259043\",\"Error: 0.37995359177284627\",\"Error: 0.4534790421480466\",\"Error: -0.04018624632453793\",\"Error: -0.22514349274524648\",\"Error: -0.4374257815852616\",\"Error: -0.0973193137601811\",\"Error: 0.06414110720152166\",\"Error: -0.34053514199831625\",\"Error: -0.3317776613998831\",\"Error: -0.08600887293141568\",\"Error: -0.39770393228172907\",\"Error: -0.42633799686245766\",\"Error: 0.0017186115255753975\",\"Error: -0.038939372131153505\",\"Error: -0.25850276031314934\",\"Error: -0.30661703207215396\",\"Error: -0.408306277758129\",\"Error: -0.553264455789531\",\"Error: -0.35168996822994814\",\"Error: 0.08958115770838049\",\"Error: 0.3035590584322563\",\"Error: 0.5337722594363186\",\"Error: 0.32405418597045355\",\"Error: -0.07601234780486266\",\"Error: 0.2328508194900678\",\"Error: 0.20559428664182633\",\"Error: 0.050310492865719425\",\"Error: -0.1040831658406205\",\"Error: -0.027689121854109544\",\"Error: 0.03542678855183112\",\"Error: 0.3530303090524285\",\"Error: 0.6180703505074234\",\"Error: 0.6008984265199615\",\"Error: 0.23376737968010275\",\"Error: 0.4005211437147409\",\"Error: 0.14816564934244525\",\"Error: 0.19543138112840097\",\"Error: 0.2999466466208105\",\"Error: 0.1275237155805371\",\"Error: -0.16335030641494086\",\"Error: 0.5049307087260786\",\"Error: 0.6246223122716401\",\"Error: 0.4599639624034353\",\"Error: 0.22140140210285608\",\"Error: 0.4737887044902891\",\"Error: 0.44713456651334127\",\"Error: 0.8418206521896536\",\"Error: 0.6580060475434948\",\"Error: -0.10335500697101452\",\"Error: 0.20848636924893071\",\"Error: 1.2612186295032188\",\"Error: 0.550545849203445\"],\"x\":[0,1,2,3,4,5,6,7,8,9,10,11,12,13,14,15,16,17,18,19,20,21,22,23,24,25,26,27,28,29,30,31,32,33,34,35,36,37,38,39,40,41,42,43,44,45,46,47,48,49,50,51,52,53,54,55,56,57,58,59,60,61,62,63,64,65,66,67,68,69,70,71,72,73,74,75,76,77,78,79,80,81,82,83,84,85,86,87,88,89,90,91,92,93,94,95,96,97,98,99],\"y\":[115.03925179407543,114.87416721680438,114.66084358248418,114.49142773225958,114.47788241135186,114.58915076313497,114.57570624916752,114.58175466558441,114.87836489609435,114.74182923579428,114.48184422197573,114.44144510662682,114.36071196002149,114.33306981615897,114.41268527804777,114.2940956998882,114.2897808202963,114.28916643625007,114.20510250110578,114.26721694838898,114.27452471752827,114.39153784152222,114.38054548084483,114.28742458040574,114.29148621926174,114.52774465588118,114.59488158875456,114.87835266224238,115.06578995513564,115.04605773060666,115.0741079957711,115.02265290371452,114.79334549711075,114.9129441233813,115.11796048285578,115.05804250135634,114.83637782675896,115.17956233174118,115.50688833908407,115.33772793168873,115.42870570593868,115.61476497774538,116.5431347497697,115.60754896249591,115.17065266202417,115.1991746645208,115.2874409278188,115.19619449817947,115.00904739225507,115.12410970621295,115.22897534922595,115.29122118807936,115.16508087648026,114.9812687186045,114.82368349259468,114.92868713345797,114.95351353394972,114.76845450188057,114.81406034463043,114.83752731949062,114.7672702650093,114.65938334991233,114.85311324690792,114.94901979544193,114.83499638019384,114.78361762737359,114.80163075102291,114.67682392928918,114.63334922355352,114.89914678512287,114.96806986038473,115.20796688925884,115.2736944823846,115.05423728403775,115.21081297258252,115.29028847920472,115.20226933971662,115.03581799650283,115.10701412146182,115.06802043102789,115.25182084440576,115.50528325770483,115.53744899067397,115.4216722197607,115.49840930095661,115.40810243114902,115.2898945491711,115.3108051383224,115.2328280338902,115.12734482602946,115.32171186203595,115.50344035024318,115.50939187455242,115.47275246659274,115.48494961701272,115.57188728398614,115.86307204582181,115.86252935214816,115.43497579975337,115.5811786498848],\"type\":\"scatter\",\"textposition\":\"top center\"}],                        {\"template\":{\"data\":{\"histogram2dcontour\":[{\"type\":\"histogram2dcontour\",\"colorbar\":{\"outlinewidth\":0,\"ticks\":\"\"},\"colorscale\":[[0.0,\"#0d0887\"],[0.1111111111111111,\"#46039f\"],[0.2222222222222222,\"#7201a8\"],[0.3333333333333333,\"#9c179e\"],[0.4444444444444444,\"#bd3786\"],[0.5555555555555556,\"#d8576b\"],[0.6666666666666666,\"#ed7953\"],[0.7777777777777778,\"#fb9f3a\"],[0.8888888888888888,\"#fdca26\"],[1.0,\"#f0f921\"]]}],\"choropleth\":[{\"type\":\"choropleth\",\"colorbar\":{\"outlinewidth\":0,\"ticks\":\"\"}}],\"histogram2d\":[{\"type\":\"histogram2d\",\"colorbar\":{\"outlinewidth\":0,\"ticks\":\"\"},\"colorscale\":[[0.0,\"#0d0887\"],[0.1111111111111111,\"#46039f\"],[0.2222222222222222,\"#7201a8\"],[0.3333333333333333,\"#9c179e\"],[0.4444444444444444,\"#bd3786\"],[0.5555555555555556,\"#d8576b\"],[0.6666666666666666,\"#ed7953\"],[0.7777777777777778,\"#fb9f3a\"],[0.8888888888888888,\"#fdca26\"],[1.0,\"#f0f921\"]]}],\"heatmap\":[{\"type\":\"heatmap\",\"colorbar\":{\"outlinewidth\":0,\"ticks\":\"\"},\"colorscale\":[[0.0,\"#0d0887\"],[0.1111111111111111,\"#46039f\"],[0.2222222222222222,\"#7201a8\"],[0.3333333333333333,\"#9c179e\"],[0.4444444444444444,\"#bd3786\"],[0.5555555555555556,\"#d8576b\"],[0.6666666666666666,\"#ed7953\"],[0.7777777777777778,\"#fb9f3a\"],[0.8888888888888888,\"#fdca26\"],[1.0,\"#f0f921\"]]}],\"heatmapgl\":[{\"type\":\"heatmapgl\",\"colorbar\":{\"outlinewidth\":0,\"ticks\":\"\"},\"colorscale\":[[0.0,\"#0d0887\"],[0.1111111111111111,\"#46039f\"],[0.2222222222222222,\"#7201a8\"],[0.3333333333333333,\"#9c179e\"],[0.4444444444444444,\"#bd3786\"],[0.5555555555555556,\"#d8576b\"],[0.6666666666666666,\"#ed7953\"],[0.7777777777777778,\"#fb9f3a\"],[0.8888888888888888,\"#fdca26\"],[1.0,\"#f0f921\"]]}],\"contourcarpet\":[{\"type\":\"contourcarpet\",\"colorbar\":{\"outlinewidth\":0,\"ticks\":\"\"}}],\"contour\":[{\"type\":\"contour\",\"colorbar\":{\"outlinewidth\":0,\"ticks\":\"\"},\"colorscale\":[[0.0,\"#0d0887\"],[0.1111111111111111,\"#46039f\"],[0.2222222222222222,\"#7201a8\"],[0.3333333333333333,\"#9c179e\"],[0.4444444444444444,\"#bd3786\"],[0.5555555555555556,\"#d8576b\"],[0.6666666666666666,\"#ed7953\"],[0.7777777777777778,\"#fb9f3a\"],[0.8888888888888888,\"#fdca26\"],[1.0,\"#f0f921\"]]}],\"surface\":[{\"type\":\"surface\",\"colorbar\":{\"outlinewidth\":0,\"ticks\":\"\"},\"colorscale\":[[0.0,\"#0d0887\"],[0.1111111111111111,\"#46039f\"],[0.2222222222222222,\"#7201a8\"],[0.3333333333333333,\"#9c179e\"],[0.4444444444444444,\"#bd3786\"],[0.5555555555555556,\"#d8576b\"],[0.6666666666666666,\"#ed7953\"],[0.7777777777777778,\"#fb9f3a\"],[0.8888888888888888,\"#fdca26\"],[1.0,\"#f0f921\"]]}],\"mesh3d\":[{\"type\":\"mesh3d\",\"colorbar\":{\"outlinewidth\":0,\"ticks\":\"\"}}],\"scatter\":[{\"fillpattern\":{\"fillmode\":\"overlay\",\"size\":10,\"solidity\":0.2},\"type\":\"scatter\"}],\"parcoords\":[{\"type\":\"parcoords\",\"line\":{\"colorbar\":{\"outlinewidth\":0,\"ticks\":\"\"}}}],\"scatterpolargl\":[{\"type\":\"scatterpolargl\",\"marker\":{\"colorbar\":{\"outlinewidth\":0,\"ticks\":\"\"}}}],\"bar\":[{\"error_x\":{\"color\":\"#2a3f5f\"},\"error_y\":{\"color\":\"#2a3f5f\"},\"marker\":{\"line\":{\"color\":\"#E5ECF6\",\"width\":0.5},\"pattern\":{\"fillmode\":\"overlay\",\"size\":10,\"solidity\":0.2}},\"type\":\"bar\"}],\"scattergeo\":[{\"type\":\"scattergeo\",\"marker\":{\"colorbar\":{\"outlinewidth\":0,\"ticks\":\"\"}}}],\"scatterpolar\":[{\"type\":\"scatterpolar\",\"marker\":{\"colorbar\":{\"outlinewidth\":0,\"ticks\":\"\"}}}],\"histogram\":[{\"marker\":{\"pattern\":{\"fillmode\":\"overlay\",\"size\":10,\"solidity\":0.2}},\"type\":\"histogram\"}],\"scattergl\":[{\"type\":\"scattergl\",\"marker\":{\"colorbar\":{\"outlinewidth\":0,\"ticks\":\"\"}}}],\"scatter3d\":[{\"type\":\"scatter3d\",\"line\":{\"colorbar\":{\"outlinewidth\":0,\"ticks\":\"\"}},\"marker\":{\"colorbar\":{\"outlinewidth\":0,\"ticks\":\"\"}}}],\"scattermapbox\":[{\"type\":\"scattermapbox\",\"marker\":{\"colorbar\":{\"outlinewidth\":0,\"ticks\":\"\"}}}],\"scatterternary\":[{\"type\":\"scatterternary\",\"marker\":{\"colorbar\":{\"outlinewidth\":0,\"ticks\":\"\"}}}],\"scattercarpet\":[{\"type\":\"scattercarpet\",\"marker\":{\"colorbar\":{\"outlinewidth\":0,\"ticks\":\"\"}}}],\"carpet\":[{\"aaxis\":{\"endlinecolor\":\"#2a3f5f\",\"gridcolor\":\"white\",\"linecolor\":\"white\",\"minorgridcolor\":\"white\",\"startlinecolor\":\"#2a3f5f\"},\"baxis\":{\"endlinecolor\":\"#2a3f5f\",\"gridcolor\":\"white\",\"linecolor\":\"white\",\"minorgridcolor\":\"white\",\"startlinecolor\":\"#2a3f5f\"},\"type\":\"carpet\"}],\"table\":[{\"cells\":{\"fill\":{\"color\":\"#EBF0F8\"},\"line\":{\"color\":\"white\"}},\"header\":{\"fill\":{\"color\":\"#C8D4E3\"},\"line\":{\"color\":\"white\"}},\"type\":\"table\"}],\"barpolar\":[{\"marker\":{\"line\":{\"color\":\"#E5ECF6\",\"width\":0.5},\"pattern\":{\"fillmode\":\"overlay\",\"size\":10,\"solidity\":0.2}},\"type\":\"barpolar\"}],\"pie\":[{\"automargin\":true,\"type\":\"pie\"}]},\"layout\":{\"autotypenumbers\":\"strict\",\"colorway\":[\"#636efa\",\"#EF553B\",\"#00cc96\",\"#ab63fa\",\"#FFA15A\",\"#19d3f3\",\"#FF6692\",\"#B6E880\",\"#FF97FF\",\"#FECB52\"],\"font\":{\"color\":\"#2a3f5f\"},\"hovermode\":\"closest\",\"hoverlabel\":{\"align\":\"left\"},\"paper_bgcolor\":\"white\",\"plot_bgcolor\":\"#E5ECF6\",\"polar\":{\"bgcolor\":\"#E5ECF6\",\"angularaxis\":{\"gridcolor\":\"white\",\"linecolor\":\"white\",\"ticks\":\"\"},\"radialaxis\":{\"gridcolor\":\"white\",\"linecolor\":\"white\",\"ticks\":\"\"}},\"ternary\":{\"bgcolor\":\"#E5ECF6\",\"aaxis\":{\"gridcolor\":\"white\",\"linecolor\":\"white\",\"ticks\":\"\"},\"baxis\":{\"gridcolor\":\"white\",\"linecolor\":\"white\",\"ticks\":\"\"},\"caxis\":{\"gridcolor\":\"white\",\"linecolor\":\"white\",\"ticks\":\"\"}},\"coloraxis\":{\"colorbar\":{\"outlinewidth\":0,\"ticks\":\"\"}},\"colorscale\":{\"sequential\":[[0.0,\"#0d0887\"],[0.1111111111111111,\"#46039f\"],[0.2222222222222222,\"#7201a8\"],[0.3333333333333333,\"#9c179e\"],[0.4444444444444444,\"#bd3786\"],[0.5555555555555556,\"#d8576b\"],[0.6666666666666666,\"#ed7953\"],[0.7777777777777778,\"#fb9f3a\"],[0.8888888888888888,\"#fdca26\"],[1.0,\"#f0f921\"]],\"sequentialminus\":[[0.0,\"#0d0887\"],[0.1111111111111111,\"#46039f\"],[0.2222222222222222,\"#7201a8\"],[0.3333333333333333,\"#9c179e\"],[0.4444444444444444,\"#bd3786\"],[0.5555555555555556,\"#d8576b\"],[0.6666666666666666,\"#ed7953\"],[0.7777777777777778,\"#fb9f3a\"],[0.8888888888888888,\"#fdca26\"],[1.0,\"#f0f921\"]],\"diverging\":[[0,\"#8e0152\"],[0.1,\"#c51b7d\"],[0.2,\"#de77ae\"],[0.3,\"#f1b6da\"],[0.4,\"#fde0ef\"],[0.5,\"#f7f7f7\"],[0.6,\"#e6f5d0\"],[0.7,\"#b8e186\"],[0.8,\"#7fbc41\"],[0.9,\"#4d9221\"],[1,\"#276419\"]]},\"xaxis\":{\"gridcolor\":\"white\",\"linecolor\":\"white\",\"ticks\":\"\",\"title\":{\"standoff\":15},\"zerolinecolor\":\"white\",\"automargin\":true,\"zerolinewidth\":2},\"yaxis\":{\"gridcolor\":\"white\",\"linecolor\":\"white\",\"ticks\":\"\",\"title\":{\"standoff\":15},\"zerolinecolor\":\"white\",\"automargin\":true,\"zerolinewidth\":2},\"scene\":{\"xaxis\":{\"backgroundcolor\":\"#E5ECF6\",\"gridcolor\":\"white\",\"linecolor\":\"white\",\"showbackground\":true,\"ticks\":\"\",\"zerolinecolor\":\"white\",\"gridwidth\":2},\"yaxis\":{\"backgroundcolor\":\"#E5ECF6\",\"gridcolor\":\"white\",\"linecolor\":\"white\",\"showbackground\":true,\"ticks\":\"\",\"zerolinecolor\":\"white\",\"gridwidth\":2},\"zaxis\":{\"backgroundcolor\":\"#E5ECF6\",\"gridcolor\":\"white\",\"linecolor\":\"white\",\"showbackground\":true,\"ticks\":\"\",\"zerolinecolor\":\"white\",\"gridwidth\":2}},\"shapedefaults\":{\"line\":{\"color\":\"#2a3f5f\"}},\"annotationdefaults\":{\"arrowcolor\":\"#2a3f5f\",\"arrowhead\":0,\"arrowwidth\":1},\"geo\":{\"bgcolor\":\"white\",\"landcolor\":\"#E5ECF6\",\"subunitcolor\":\"white\",\"showland\":true,\"showlakes\":true,\"lakecolor\":\"white\"},\"title\":{\"x\":0.05},\"mapbox\":{\"style\":\"light\"}}},\"font\":{\"family\":\"Courier New, monospace\",\"size\":18,\"color\":\"Black\"},\"title\":{\"text\":\"Comparison of Real and Predicted in Amazon Stock Price\"},\"xaxis\":{\"title\":{\"text\":\"Days\"}},\"yaxis\":{\"title\":{\"text\":\"Price\"}},\"legend\":{\"title\":{\"text\":\"Legend\"}}},                        {\"responsive\": true}                    ).then(function(){\n",
              "                            \n",
              "var gd = document.getElementById('4332ffb0-b438-4ae9-8530-096be50ee9c3');\n",
              "var x = new MutationObserver(function (mutations, observer) {{\n",
              "        var display = window.getComputedStyle(gd).display;\n",
              "        if (!display || display === 'none') {{\n",
              "            console.log([gd, 'removed!']);\n",
              "            Plotly.purge(gd);\n",
              "            observer.disconnect();\n",
              "        }}\n",
              "}});\n",
              "\n",
              "// Listen for the removal of the full notebook cells\n",
              "var notebookContainer = gd.closest('#notebook-container');\n",
              "if (notebookContainer) {{\n",
              "    x.observe(notebookContainer, {childList: true});\n",
              "}}\n",
              "\n",
              "// Listen for the clearing of the current output cell\n",
              "var outputEl = gd.closest('.output');\n",
              "if (outputEl) {{\n",
              "    x.observe(outputEl, {childList: true});\n",
              "}}\n",
              "\n",
              "                        })                };                            </script>        </div>\n",
              "</body>\n",
              "</html>"
            ]
          },
          "metadata": {}
        }
      ]
    },
    {
      "cell_type": "markdown",
      "source": [
        "На графике видно, что модель работает, но все же ошибается много где, так как из-за стохастической природы данных, сложно делать предсказания зная только цены и было бы куда лучше использовать вместе с ними и новости, но опять же злые капиталисты помешали мне сделать это"
      ],
      "metadata": {
        "id": "Q7X-5d1kdjzm"
      }
    },
    {
      "cell_type": "code",
      "source": [
        "!pip install yfinance --upgrade --no-cache-dir"
      ],
      "metadata": {
        "colab": {
          "base_uri": "https://localhost:8080/"
        },
        "id": "rlggSUSJL1X2",
        "outputId": "98a4eaf6-1e5b-4b33-9487-59b8142eab5f"
      },
      "execution_count": 46,
      "outputs": [
        {
          "output_type": "stream",
          "name": "stdout",
          "text": [
            "Looking in indexes: https://pypi.org/simple, https://us-python.pkg.dev/colab-wheels/public/simple/\n",
            "Collecting alpha_vantage\n",
            "  Downloading alpha_vantage-2.3.1-py3-none-any.whl (31 kB)\n",
            "Collecting aiohttp (from alpha_vantage)\n",
            "  Downloading aiohttp-3.8.4-cp310-cp310-manylinux_2_17_x86_64.manylinux2014_x86_64.whl (1.0 MB)\n",
            "\u001b[2K     \u001b[90m━━━━━━━━━━━━━━━━━━━━━━━━━━━━━━━━━━━━━━━━\u001b[0m \u001b[32m1.0/1.0 MB\u001b[0m \u001b[31m27.3 MB/s\u001b[0m eta \u001b[36m0:00:00\u001b[0m\n",
            "\u001b[?25hRequirement already satisfied: requests in /usr/local/lib/python3.10/dist-packages (from alpha_vantage) (2.27.1)\n",
            "Requirement already satisfied: attrs>=17.3.0 in /usr/local/lib/python3.10/dist-packages (from aiohttp->alpha_vantage) (23.1.0)\n",
            "Requirement already satisfied: charset-normalizer<4.0,>=2.0 in /usr/local/lib/python3.10/dist-packages (from aiohttp->alpha_vantage) (2.0.12)\n",
            "Collecting multidict<7.0,>=4.5 (from aiohttp->alpha_vantage)\n",
            "  Downloading multidict-6.0.4-cp310-cp310-manylinux_2_17_x86_64.manylinux2014_x86_64.whl (114 kB)\n",
            "\u001b[2K     \u001b[90m━━━━━━━━━━━━━━━━━━━━━━━━━━━━━━━━━━━━━━\u001b[0m \u001b[32m114.5/114.5 kB\u001b[0m \u001b[31m16.2 MB/s\u001b[0m eta \u001b[36m0:00:00\u001b[0m\n",
            "\u001b[?25hCollecting async-timeout<5.0,>=4.0.0a3 (from aiohttp->alpha_vantage)\n",
            "  Downloading async_timeout-4.0.2-py3-none-any.whl (5.8 kB)\n",
            "Collecting yarl<2.0,>=1.0 (from aiohttp->alpha_vantage)\n",
            "  Downloading yarl-1.9.2-cp310-cp310-manylinux_2_17_x86_64.manylinux2014_x86_64.whl (268 kB)\n",
            "\u001b[2K     \u001b[90m━━━━━━━━━━━━━━━━━━━━━━━━━━━━━━━━━━━━━━\u001b[0m \u001b[32m268.8/268.8 kB\u001b[0m \u001b[31m33.2 MB/s\u001b[0m eta \u001b[36m0:00:00\u001b[0m\n",
            "\u001b[?25hCollecting frozenlist>=1.1.1 (from aiohttp->alpha_vantage)\n",
            "  Downloading frozenlist-1.3.3-cp310-cp310-manylinux_2_5_x86_64.manylinux1_x86_64.manylinux_2_17_x86_64.manylinux2014_x86_64.whl (149 kB)\n",
            "\u001b[2K     \u001b[90m━━━━━━━━━━━━━━━━━━━━━━━━━━━━━━━━━━━━━━\u001b[0m \u001b[32m149.6/149.6 kB\u001b[0m \u001b[31m17.1 MB/s\u001b[0m eta \u001b[36m0:00:00\u001b[0m\n",
            "\u001b[?25hCollecting aiosignal>=1.1.2 (from aiohttp->alpha_vantage)\n",
            "  Downloading aiosignal-1.3.1-py3-none-any.whl (7.6 kB)\n",
            "Requirement already satisfied: urllib3<1.27,>=1.21.1 in /usr/local/lib/python3.10/dist-packages (from requests->alpha_vantage) (1.26.15)\n",
            "Requirement already satisfied: certifi>=2017.4.17 in /usr/local/lib/python3.10/dist-packages (from requests->alpha_vantage) (2022.12.7)\n",
            "Requirement already satisfied: idna<4,>=2.5 in /usr/local/lib/python3.10/dist-packages (from requests->alpha_vantage) (3.4)\n",
            "Installing collected packages: multidict, frozenlist, async-timeout, yarl, aiosignal, aiohttp, alpha_vantage\n",
            "Successfully installed aiohttp-3.8.4 aiosignal-1.3.1 alpha_vantage-2.3.1 async-timeout-4.0.2 frozenlist-1.3.3 multidict-6.0.4 yarl-1.9.2\n"
          ]
        }
      ]
    },
    {
      "cell_type": "markdown",
      "source": [
        "Теперь получаем данные из yfinance, забираем данные за последний месяц и берем оттуда последние 7 дней, иначе, если бы мы брали данные просто за последнюю неделю нам могло быть возвращаться меньше 7 дней, так как торги ведутся не ежедневно. И делаем предсказание по последнем 7 дням"
      ],
      "metadata": {
        "id": "ewXn8MxRcuYf"
      }
    },
    {
      "cell_type": "code",
      "source": [
        "import yfinance as yf\n",
        "\n",
        "# Скачивание данных\n",
        "data = yf.download('AMZN', period='1mo')\n",
        "\n",
        "# Обработка данных\n",
        "data = data[['Open', 'High', 'Low', 'Close']]\n",
        "\n",
        "\n",
        "data = data.dropna()\n",
        "\n",
        "# Нормализация данных\n",
        "data_normalized = scaler.transform(data)\n",
        "\n",
        "# Использование последних 7 дней данных\n",
        "last_sequence = data_normalized[-7:]\n",
        "\n",
        "# Преобразование в torch tensor и добавление измерения для партии\n",
        "last_sequence = torch.tensor(last_sequence).float().to(device)\n",
        "\n",
        "# Перевод модели в режим предсказания\n",
        "model.eval()\n",
        "\n",
        "# Получение предсказаний модели\n",
        "with torch.no_grad():\n",
        "    prediction = model(last_sequence.view(1, 7, -1)[0]).cpu().item()\n",
        "\n",
        "# Возвращение к оригинальному масштабу\n",
        "prediction = scaler_close.inverse_transform([[prediction]])\n",
        "\n",
        "print(\"Предсказание:\", prediction[0][0])\n"
      ],
      "metadata": {
        "colab": {
          "base_uri": "https://localhost:8080/"
        },
        "id": "T-xGVd8eS86L",
        "outputId": "3397cb34-2459-431f-dbfc-b3345c75e6c1"
      },
      "execution_count": 113,
      "outputs": [
        {
          "output_type": "stream",
          "name": "stdout",
          "text": [
            "\r[*********************100%***********************]  1 of 1 completed\n",
            "Предсказание: 117.25111901875925\n"
          ]
        }
      ]
    },
    {
      "cell_type": "markdown",
      "source": [
        "В заключении нужно сказать, что ни в коем случае нельзя использовать эту модель для реальных торгов, так как модель все же достаточно сильно ошибается, но в дальнейшем, когда я интегрирую обработку новостей, я думаю, что смогу получить хорошие результаты.\n"
      ],
      "metadata": {
        "id": "I0B5OuNLeBzX"
      }
    }
  ]
}